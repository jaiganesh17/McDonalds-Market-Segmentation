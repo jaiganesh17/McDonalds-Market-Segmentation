{
 "cells": [
  {
   "cell_type": "code",
   "execution_count": 1,
   "id": "608f44d9",
   "metadata": {},
   "outputs": [],
   "source": [
    "# Import libraries\n",
    "import pandas as pd\n",
    "import numpy as np\n",
    "import matplotlib.pyplot as plt\n",
    "import seaborn as sns\n",
    "from sklearn.cluster import KMeans"
   ]
  },
  {
   "cell_type": "code",
   "execution_count": 2,
   "id": "0f187710",
   "metadata": {
    "scrolled": true
   },
   "outputs": [],
   "source": [
    "# Reading the data from the csv file\n",
    "df = pd.read_csv('D:\\jai\\DataScience\\FeynnAI\\T-1\\mcdonalds.csv')"
   ]
  },
  {
   "cell_type": "code",
   "execution_count": 3,
   "id": "9c323ca1",
   "metadata": {},
   "outputs": [
    {
     "data": {
      "text/html": [
       "<div>\n",
       "<style scoped>\n",
       "    .dataframe tbody tr th:only-of-type {\n",
       "        vertical-align: middle;\n",
       "    }\n",
       "\n",
       "    .dataframe tbody tr th {\n",
       "        vertical-align: top;\n",
       "    }\n",
       "\n",
       "    .dataframe thead th {\n",
       "        text-align: right;\n",
       "    }\n",
       "</style>\n",
       "<table border=\"1\" class=\"dataframe\">\n",
       "  <thead>\n",
       "    <tr style=\"text-align: right;\">\n",
       "      <th></th>\n",
       "      <th>yummy</th>\n",
       "      <th>convenient</th>\n",
       "      <th>spicy</th>\n",
       "      <th>fattening</th>\n",
       "      <th>greasy</th>\n",
       "      <th>fast</th>\n",
       "      <th>cheap</th>\n",
       "      <th>tasty</th>\n",
       "      <th>expensive</th>\n",
       "      <th>healthy</th>\n",
       "      <th>disgusting</th>\n",
       "      <th>Like</th>\n",
       "      <th>Age</th>\n",
       "      <th>VisitFrequency</th>\n",
       "      <th>Gender</th>\n",
       "    </tr>\n",
       "  </thead>\n",
       "  <tbody>\n",
       "    <tr>\n",
       "      <th>0</th>\n",
       "      <td>No</td>\n",
       "      <td>Yes</td>\n",
       "      <td>No</td>\n",
       "      <td>Yes</td>\n",
       "      <td>No</td>\n",
       "      <td>Yes</td>\n",
       "      <td>Yes</td>\n",
       "      <td>No</td>\n",
       "      <td>Yes</td>\n",
       "      <td>No</td>\n",
       "      <td>No</td>\n",
       "      <td>-3</td>\n",
       "      <td>61</td>\n",
       "      <td>Every three months</td>\n",
       "      <td>Female</td>\n",
       "    </tr>\n",
       "    <tr>\n",
       "      <th>1</th>\n",
       "      <td>Yes</td>\n",
       "      <td>Yes</td>\n",
       "      <td>No</td>\n",
       "      <td>Yes</td>\n",
       "      <td>Yes</td>\n",
       "      <td>Yes</td>\n",
       "      <td>Yes</td>\n",
       "      <td>Yes</td>\n",
       "      <td>Yes</td>\n",
       "      <td>No</td>\n",
       "      <td>No</td>\n",
       "      <td>+2</td>\n",
       "      <td>51</td>\n",
       "      <td>Every three months</td>\n",
       "      <td>Female</td>\n",
       "    </tr>\n",
       "    <tr>\n",
       "      <th>2</th>\n",
       "      <td>No</td>\n",
       "      <td>Yes</td>\n",
       "      <td>Yes</td>\n",
       "      <td>Yes</td>\n",
       "      <td>Yes</td>\n",
       "      <td>Yes</td>\n",
       "      <td>No</td>\n",
       "      <td>Yes</td>\n",
       "      <td>Yes</td>\n",
       "      <td>Yes</td>\n",
       "      <td>No</td>\n",
       "      <td>+1</td>\n",
       "      <td>62</td>\n",
       "      <td>Every three months</td>\n",
       "      <td>Female</td>\n",
       "    </tr>\n",
       "    <tr>\n",
       "      <th>3</th>\n",
       "      <td>Yes</td>\n",
       "      <td>Yes</td>\n",
       "      <td>No</td>\n",
       "      <td>Yes</td>\n",
       "      <td>Yes</td>\n",
       "      <td>Yes</td>\n",
       "      <td>Yes</td>\n",
       "      <td>Yes</td>\n",
       "      <td>No</td>\n",
       "      <td>No</td>\n",
       "      <td>Yes</td>\n",
       "      <td>+4</td>\n",
       "      <td>69</td>\n",
       "      <td>Once a week</td>\n",
       "      <td>Female</td>\n",
       "    </tr>\n",
       "    <tr>\n",
       "      <th>4</th>\n",
       "      <td>No</td>\n",
       "      <td>Yes</td>\n",
       "      <td>No</td>\n",
       "      <td>Yes</td>\n",
       "      <td>Yes</td>\n",
       "      <td>Yes</td>\n",
       "      <td>Yes</td>\n",
       "      <td>No</td>\n",
       "      <td>No</td>\n",
       "      <td>Yes</td>\n",
       "      <td>No</td>\n",
       "      <td>+2</td>\n",
       "      <td>49</td>\n",
       "      <td>Once a month</td>\n",
       "      <td>Male</td>\n",
       "    </tr>\n",
       "  </tbody>\n",
       "</table>\n",
       "</div>"
      ],
      "text/plain": [
       "  yummy convenient spicy fattening greasy fast cheap tasty expensive healthy  \\\n",
       "0    No        Yes    No       Yes     No  Yes   Yes    No       Yes      No   \n",
       "1   Yes        Yes    No       Yes    Yes  Yes   Yes   Yes       Yes      No   \n",
       "2    No        Yes   Yes       Yes    Yes  Yes    No   Yes       Yes     Yes   \n",
       "3   Yes        Yes    No       Yes    Yes  Yes   Yes   Yes        No      No   \n",
       "4    No        Yes    No       Yes    Yes  Yes   Yes    No        No     Yes   \n",
       "\n",
       "  disgusting Like  Age      VisitFrequency  Gender  \n",
       "0         No   -3   61  Every three months  Female  \n",
       "1         No   +2   51  Every three months  Female  \n",
       "2         No   +1   62  Every three months  Female  \n",
       "3        Yes   +4   69         Once a week  Female  \n",
       "4         No   +2   49        Once a month    Male  "
      ]
     },
     "execution_count": 3,
     "metadata": {},
     "output_type": "execute_result"
    }
   ],
   "source": [
    "# First look at the data\n",
    "df.head()"
   ]
  },
  {
   "cell_type": "code",
   "execution_count": 4,
   "id": "70179adc",
   "metadata": {},
   "outputs": [
    {
     "name": "stdout",
     "output_type": "stream",
     "text": [
      "<class 'pandas.core.frame.DataFrame'>\n",
      "RangeIndex: 1453 entries, 0 to 1452\n",
      "Data columns (total 15 columns):\n",
      " #   Column          Non-Null Count  Dtype \n",
      "---  ------          --------------  ----- \n",
      " 0   yummy           1453 non-null   object\n",
      " 1   convenient      1453 non-null   object\n",
      " 2   spicy           1453 non-null   object\n",
      " 3   fattening       1453 non-null   object\n",
      " 4   greasy          1453 non-null   object\n",
      " 5   fast            1453 non-null   object\n",
      " 6   cheap           1453 non-null   object\n",
      " 7   tasty           1453 non-null   object\n",
      " 8   expensive       1453 non-null   object\n",
      " 9   healthy         1453 non-null   object\n",
      " 10  disgusting      1453 non-null   object\n",
      " 11  Like            1453 non-null   object\n",
      " 12  Age             1453 non-null   int64 \n",
      " 13  VisitFrequency  1453 non-null   object\n",
      " 14  Gender          1453 non-null   object\n",
      "dtypes: int64(1), object(14)\n",
      "memory usage: 170.4+ KB\n"
     ]
    }
   ],
   "source": [
    "# Check for any missing values in the data and the size of the data\n",
    "df.info()"
   ]
  },
  {
   "cell_type": "code",
   "execution_count": 5,
   "id": "ed57bd52",
   "metadata": {},
   "outputs": [],
   "source": [
    "# Dataframe has 15 columns(variables) and 1543 rows(entries)\n",
    "# And there are no missing values in the data\n",
    "# But all the values are as strings/objects, need to convert them into numericals"
   ]
  },
  {
   "cell_type": "code",
   "execution_count": 6,
   "id": "0cbbc7da",
   "metadata": {},
   "outputs": [
    {
     "data": {
      "text/plain": [
       "Yes    803\n",
       "No     650\n",
       "Name: yummy, dtype: int64"
      ]
     },
     "execution_count": 6,
     "metadata": {},
     "output_type": "execute_result"
    }
   ],
   "source": [
    "# Check how many unique values are there in \"yummy\"\n",
    "df.yummy.value_counts()"
   ]
  },
  {
   "cell_type": "code",
   "execution_count": 7,
   "id": "f64dc189",
   "metadata": {},
   "outputs": [
    {
     "data": {
      "text/plain": [
       "<AxesSubplot:xlabel='yummy', ylabel='Count'>"
      ]
     },
     "execution_count": 7,
     "metadata": {},
     "output_type": "execute_result"
    },
    {
     "data": {
      "image/png": "[encoded data removed]",
      "text/plain": [
       "<Figure size 432x288 with 1 Axes>"
      ]
     },
     "metadata": {
      "needs_background": "light"
     },
     "output_type": "display_data"
    }
   ],
   "source": [
    "# There are totally 803 people who say Yes and 650 people who say No to yummuy as shown below\n",
    "sns.histplot(df.yummy)"
   ]
  },
  {
   "cell_type": "code",
   "execution_count": 8,
   "id": "ff6e7261",
   "metadata": {},
   "outputs": [],
   "source": [
    "# Create a dictionary to convert \"Yes\" to 1 and \"No\" to 0\n",
    "dict1 = { \"Yes\" : 1, \"No\" : 0 }"
   ]
  },
  {
   "cell_type": "code",
   "execution_count": 9,
   "id": "9d922221",
   "metadata": {},
   "outputs": [
    {
     "data": {
      "text/plain": [
       "1    803\n",
       "0    650\n",
       "Name: yummy, dtype: int64"
      ]
     },
     "execution_count": 9,
     "metadata": {},
     "output_type": "execute_result"
    }
   ],
   "source": [
    "# Convert \"Yes\" to 1 and \"No\" to 0 by using the dictionary\n",
    "df.yummy = df.yummy.map(dict1)\n",
    "df.yummy.value_counts()"
   ]
  },
  {
   "cell_type": "code",
   "execution_count": 10,
   "id": "606e2b1f",
   "metadata": {},
   "outputs": [
    {
     "data": {
      "text/plain": [
       "Yes    1319\n",
       "No      134\n",
       "Name: convenient, dtype: int64"
      ]
     },
     "execution_count": 10,
     "metadata": {},
     "output_type": "execute_result"
    }
   ],
   "source": [
    "# Check how many unique values are there in \"convenient\"\n",
    "df.convenient.value_counts()"
   ]
  },
  {
   "cell_type": "code",
   "execution_count": 11,
   "id": "703c25ee",
   "metadata": {},
   "outputs": [
    {
     "data": {
      "text/plain": [
       "<AxesSubplot:xlabel='convenient', ylabel='Count'>"
      ]
     },
     "execution_count": 11,
     "metadata": {},
     "output_type": "execute_result"
    },
    {
     "data": {
      "image/png": "[encoded data removed]",
      "text/plain": [
       "<Figure size 432x288 with 1 Axes>"
      ]
     },
     "metadata": {
      "needs_background": "light"
     },
     "output_type": "display_data"
    }
   ],
   "source": [
    "# There are totally 1319 people who say Yes and 134 people who say No to convenient as shown below\n",
    "sns.histplot(df.convenient)"
   ]
  },
  {
   "cell_type": "code",
   "execution_count": 12,
   "id": "9b257181",
   "metadata": {},
   "outputs": [
    {
     "data": {
      "text/plain": [
       "1    1319\n",
       "0     134\n",
       "Name: convenient, dtype: int64"
      ]
     },
     "execution_count": 12,
     "metadata": {},
     "output_type": "execute_result"
    }
   ],
   "source": [
    "# Convert \"Yes\" to 1 and \"No\" to 0 by using the dictionary\n",
    "df.convenient = df.convenient.map(dict1)\n",
    "df.convenient.value_counts()"
   ]
  },
  {
   "cell_type": "code",
   "execution_count": 13,
   "id": "0fefbead",
   "metadata": {},
   "outputs": [
    {
     "data": {
      "text/plain": [
       "No     1317\n",
       "Yes     136\n",
       "Name: spicy, dtype: int64"
      ]
     },
     "execution_count": 13,
     "metadata": {},
     "output_type": "execute_result"
    }
   ],
   "source": [
    "# Check how many unique values are there in \"spicy\"\n",
    "df.spicy.value_counts()"
   ]
  },
  {
   "cell_type": "code",
   "execution_count": 14,
   "id": "409fbff4",
   "metadata": {},
   "outputs": [
    {
     "data": {
      "text/plain": [
       "<AxesSubplot:xlabel='spicy', ylabel='Count'>"
      ]
     },
     "execution_count": 14,
     "metadata": {},
     "output_type": "execute_result"
    },
    {
     "data": {
      "image/png": "[encoded data removed]",
      "text/plain": [
       "<Figure size 432x288 with 1 Axes>"
      ]
     },
     "metadata": {
      "needs_background": "light"
     },
     "output_type": "display_data"
    }
   ],
   "source": [
    "# There are totally 1317 people who say Yes and 136 of them who say No to spicy as shown below\n",
    "sns.histplot(df.spicy)"
   ]
  },
  {
   "cell_type": "code",
   "execution_count": 15,
   "id": "15950172",
   "metadata": {},
   "outputs": [
    {
     "data": {
      "text/plain": [
       "0    1317\n",
       "1     136\n",
       "Name: spicy, dtype: int64"
      ]
     },
     "execution_count": 15,
     "metadata": {},
     "output_type": "execute_result"
    }
   ],
   "source": [
    "# Convert \"Yes\" to 1 and \"No\" to 0 by using the dictionary\n",
    "df.spicy = df.spicy.map(dict1)\n",
    "df.spicy.value_counts()"
   ]
  },
  {
   "cell_type": "code",
   "execution_count": 16,
   "id": "223d5386",
   "metadata": {},
   "outputs": [
    {
     "data": {
      "text/plain": [
       "Yes    1260\n",
       "No      193\n",
       "Name: fattening, dtype: int64"
      ]
     },
     "execution_count": 16,
     "metadata": {},
     "output_type": "execute_result"
    }
   ],
   "source": [
    "# Check how many unique values are there in \"fattening\"\n",
    "df.fattening.value_counts()"
   ]
  },
  {
   "cell_type": "code",
   "execution_count": 17,
   "id": "7914e09c",
   "metadata": {},
   "outputs": [
    {
     "data": {
      "text/plain": [
       "<AxesSubplot:xlabel='fattening', ylabel='Count'>"
      ]
     },
     "execution_count": 17,
     "metadata": {},
     "output_type": "execute_result"
    },
    {
     "data": {
      "image/png": "[encoded data removed]",
      "text/plain": [
       "<Figure size 432x288 with 1 Axes>"
      ]
     },
     "metadata": {
      "needs_background": "light"
     },
     "output_type": "display_data"
    }
   ],
   "source": [
    "# There are 1260 people who say Yes and 193 people who say No to fattening as shown below\n",
    "sns.histplot(df.fattening)"
   ]
  },
  {
   "cell_type": "code",
   "execution_count": 18,
   "id": "1ecf1172",
   "metadata": {},
   "outputs": [
    {
     "data": {
      "text/plain": [
       "1    1260\n",
       "0     193\n",
       "Name: fattening, dtype: int64"
      ]
     },
     "execution_count": 18,
     "metadata": {},
     "output_type": "execute_result"
    }
   ],
   "source": [
    "# Convert \"Yes\" to 1 and \"No\" to 0 by using the dictionary\n",
    "df.fattening = df.fattening.map(dict1)\n",
    "df.fattening.value_counts()"
   ]
  },
  {
   "cell_type": "code",
   "execution_count": 19,
   "id": "d357d720",
   "metadata": {},
   "outputs": [
    {
     "data": {
      "text/plain": [
       "Yes    765\n",
       "No     688\n",
       "Name: greasy, dtype: int64"
      ]
     },
     "execution_count": 19,
     "metadata": {},
     "output_type": "execute_result"
    }
   ],
   "source": [
    "# Check how many unique values are there in \"greasy\"\n",
    "df.greasy.value_counts()"
   ]
  },
  {
   "cell_type": "code",
   "execution_count": 20,
   "id": "61912f1f",
   "metadata": {},
   "outputs": [
    {
     "data": {
      "text/plain": [
       "<AxesSubplot:xlabel='greasy', ylabel='Count'>"
      ]
     },
     "execution_count": 20,
     "metadata": {},
     "output_type": "execute_result"
    },
    {
     "data": {
      "image/png": "[encoded data removed]",
      "text/plain": [
       "<Figure size 432x288 with 1 Axes>"
      ]
     },
     "metadata": {
      "needs_background": "light"
     },
     "output_type": "display_data"
    }
   ],
   "source": [
    "# There are 765 people who say Yes and 688 people who say No to greasy as shown below\n",
    "sns.histplot(df.greasy)"
   ]
  },
  {
   "cell_type": "code",
   "execution_count": 21,
   "id": "360106d3",
   "metadata": {},
   "outputs": [
    {
     "data": {
      "text/plain": [
       "1    765\n",
       "0    688\n",
       "Name: greasy, dtype: int64"
      ]
     },
     "execution_count": 21,
     "metadata": {},
     "output_type": "execute_result"
    }
   ],
   "source": [
    "# Convert \"Yes\" to 1 and \"No\" to 0 by using the dictionary\n",
    "df.greasy = df.greasy.map(dict1)\n",
    "df.greasy.value_counts()"
   ]
  },
  {
   "cell_type": "code",
   "execution_count": 22,
   "id": "6837afcd",
   "metadata": {},
   "outputs": [
    {
     "data": {
      "text/plain": [
       "Yes    1308\n",
       "No      145\n",
       "Name: fast, dtype: int64"
      ]
     },
     "execution_count": 22,
     "metadata": {},
     "output_type": "execute_result"
    }
   ],
   "source": [
    "# Check for how many unique values are there in \"fast\"\n",
    "df.fast.value_counts()"
   ]
  },
  {
   "cell_type": "code",
   "execution_count": 23,
   "id": "c26c41cd",
   "metadata": {},
   "outputs": [
    {
     "data": {
      "text/plain": [
       "<AxesSubplot:xlabel='fast', ylabel='Count'>"
      ]
     },
     "execution_count": 23,
     "metadata": {},
     "output_type": "execute_result"
    },
    {
     "data": {
      "image/png": "[encoded data removed]",
      "text/plain": [
       "<Figure size 432x288 with 1 Axes>"
      ]
     },
     "metadata": {
      "needs_background": "light"
     },
     "output_type": "display_data"
    }
   ],
   "source": [
    "# There are 1308 people who say Yes and 145 people who say No to fast as shown below\n",
    "sns.histplot(df.fast)"
   ]
  },
  {
   "cell_type": "code",
   "execution_count": 24,
   "id": "c998fde7",
   "metadata": {},
   "outputs": [
    {
     "data": {
      "text/plain": [
       "1    1308\n",
       "0     145\n",
       "Name: fast, dtype: int64"
      ]
     },
     "execution_count": 24,
     "metadata": {},
     "output_type": "execute_result"
    }
   ],
   "source": [
    "# Convert \"Yes\" to 1 and \"No\" to 0 by using the dictionary\n",
    "df.fast = df.fast.map(dict1)\n",
    "df.fast.value_counts()"
   ]
  },
  {
   "cell_type": "code",
   "execution_count": 25,
   "id": "f7ce8151",
   "metadata": {},
   "outputs": [
    {
     "data": {
      "text/plain": [
       "Yes    870\n",
       "No     583\n",
       "Name: cheap, dtype: int64"
      ]
     },
     "execution_count": 25,
     "metadata": {},
     "output_type": "execute_result"
    }
   ],
   "source": [
    "# Check for how many unique values are there in \"cheap\"\n",
    "df.cheap.value_counts()"
   ]
  },
  {
   "cell_type": "code",
   "execution_count": 26,
   "id": "b81576c6",
   "metadata": {},
   "outputs": [
    {
     "data": {
      "text/plain": [
       "<AxesSubplot:xlabel='cheap', ylabel='Count'>"
      ]
     },
     "execution_count": 26,
     "metadata": {},
     "output_type": "execute_result"
    },
    {
     "data": {
      "image/png": "[encoded data removed]",
      "text/plain": [
       "<Figure size 432x288 with 1 Axes>"
      ]
     },
     "metadata": {
      "needs_background": "light"
     },
     "output_type": "display_data"
    }
   ],
   "source": [
    "# There are 870 people who say Yes and 583 people who say No to cheap as shown below\n",
    "sns.histplot(df.cheap)"
   ]
  },
  {
   "cell_type": "code",
   "execution_count": 27,
   "id": "b0e516ff",
   "metadata": {},
   "outputs": [
    {
     "data": {
      "text/plain": [
       "1    870\n",
       "0    583\n",
       "Name: cheap, dtype: int64"
      ]
     },
     "execution_count": 27,
     "metadata": {},
     "output_type": "execute_result"
    }
   ],
   "source": [
    "# Convert \"Yes\" to 1 and \"No\" to 0 by using the dictionary\n",
    "df.cheap = df.cheap.map(dict1)\n",
    "df.cheap.value_counts()"
   ]
  },
  {
   "cell_type": "code",
   "execution_count": 28,
   "id": "bef19c8e",
   "metadata": {},
   "outputs": [
    {
     "data": {
      "text/plain": [
       "Yes    936\n",
       "No     517\n",
       "Name: tasty, dtype: int64"
      ]
     },
     "execution_count": 28,
     "metadata": {},
     "output_type": "execute_result"
    }
   ],
   "source": [
    "# Check how many unique values are there in \"tasty\"\n",
    "df.tasty.value_counts()"
   ]
  },
  {
   "cell_type": "code",
   "execution_count": 29,
   "id": "93fa6b82",
   "metadata": {},
   "outputs": [
    {
     "data": {
      "text/plain": [
       "<AxesSubplot:xlabel='tasty', ylabel='Count'>"
      ]
     },
     "execution_count": 29,
     "metadata": {},
     "output_type": "execute_result"
    },
    {
     "data": {
      "image/png": "[encoded data removed]",
      "text/plain": [
       "<Figure size 432x288 with 1 Axes>"
      ]
     },
     "metadata": {
      "needs_background": "light"
     },
     "output_type": "display_data"
    }
   ],
   "source": [
    "# There are 936 people who say Yes and 517 people who say No to tasty as shown below\n",
    "sns.histplot(df.tasty)"
   ]
  },
  {
   "cell_type": "code",
   "execution_count": 30,
   "id": "8d92b6a4",
   "metadata": {},
   "outputs": [
    {
     "data": {
      "text/plain": [
       "1    936\n",
       "0    517\n",
       "Name: tasty, dtype: int64"
      ]
     },
     "execution_count": 30,
     "metadata": {},
     "output_type": "execute_result"
    }
   ],
   "source": [
    "# Convert \"Yes\" to 1 and \"No\" to 0 by using the dictionary\n",
    "df.tasty = df.tasty.map(dict1)\n",
    "df.tasty.value_counts()"
   ]
  },
  {
   "cell_type": "code",
   "execution_count": 31,
   "id": "4965ed5f",
   "metadata": {},
   "outputs": [
    {
     "data": {
      "text/plain": [
       "No     933\n",
       "Yes    520\n",
       "Name: expensive, dtype: int64"
      ]
     },
     "execution_count": 31,
     "metadata": {},
     "output_type": "execute_result"
    }
   ],
   "source": [
    "# Check how many unique values are there in \"expensive\"\n",
    "df.expensive.value_counts()"
   ]
  },
  {
   "cell_type": "code",
   "execution_count": 32,
   "id": "2c02fbe3",
   "metadata": {},
   "outputs": [
    {
     "data": {
      "text/plain": [
       "<AxesSubplot:xlabel='expensive', ylabel='Count'>"
      ]
     },
     "execution_count": 32,
     "metadata": {},
     "output_type": "execute_result"
    },
    {
     "data": {
      "image/png": "[encoded data removed]",
      "text/plain": [
       "<Figure size 432x288 with 1 Axes>"
      ]
     },
     "metadata": {
      "needs_background": "light"
     },
     "output_type": "display_data"
    }
   ],
   "source": [
    "# There are 933 people who say Yes and 520 people who say No to expensive as shown below\n",
    "sns.histplot(df.expensive)"
   ]
  },
  {
   "cell_type": "code",
   "execution_count": 33,
   "id": "18de1222",
   "metadata": {},
   "outputs": [
    {
     "data": {
      "text/plain": [
       "0    933\n",
       "1    520\n",
       "Name: expensive, dtype: int64"
      ]
     },
     "execution_count": 33,
     "metadata": {},
     "output_type": "execute_result"
    }
   ],
   "source": [
    "# Convert \"Yes\" to 1 and \"No\" to 0 by using the dictionary\n",
    "df.expensive = df.expensive.map(dict1)\n",
    "df.expensive.value_counts()"
   ]
  },
  {
   "cell_type": "code",
   "execution_count": 34,
   "id": "847949b7",
   "metadata": {},
   "outputs": [
    {
     "data": {
      "text/plain": [
       "No     1164\n",
       "Yes     289\n",
       "Name: healthy, dtype: int64"
      ]
     },
     "execution_count": 34,
     "metadata": {},
     "output_type": "execute_result"
    }
   ],
   "source": [
    "# Check how many unique values are there in \"healthy\"\n",
    "df.healthy.value_counts()"
   ]
  },
  {
   "cell_type": "code",
   "execution_count": 35,
   "id": "df82269f",
   "metadata": {},
   "outputs": [
    {
     "data": {
      "text/plain": [
       "<AxesSubplot:xlabel='healthy', ylabel='Count'>"
      ]
     },
     "execution_count": 35,
     "metadata": {},
     "output_type": "execute_result"
    },
    {
     "data": {
      "image/png": "[encoded data removed]",
      "text/plain": [
       "<Figure size 432x288 with 1 Axes>"
      ]
     },
     "metadata": {
      "needs_background": "light"
     },
     "output_type": "display_data"
    }
   ],
   "source": [
    "# There are 1164 people who say Yes and 289 people who say No to healthy as shown below\n",
    "sns.histplot(df.healthy)"
   ]
  },
  {
   "cell_type": "code",
   "execution_count": 36,
   "id": "e3605e41",
   "metadata": {},
   "outputs": [
    {
     "data": {
      "text/plain": [
       "0    1164\n",
       "1     289\n",
       "Name: healthy, dtype: int64"
      ]
     },
     "execution_count": 36,
     "metadata": {},
     "output_type": "execute_result"
    }
   ],
   "source": [
    "# Convert \"Yes\" to 1 and \"No\" to 0 by using the dictionary\n",
    "df.healthy = df.healthy.map(dict1)\n",
    "df.healthy.value_counts()"
   ]
  },
  {
   "cell_type": "code",
   "execution_count": 37,
   "id": "acd7cb4e",
   "metadata": {},
   "outputs": [
    {
     "data": {
      "text/plain": [
       "No     1100\n",
       "Yes     353\n",
       "Name: disgusting, dtype: int64"
      ]
     },
     "execution_count": 37,
     "metadata": {},
     "output_type": "execute_result"
    }
   ],
   "source": [
    "# Check how many unique values are there in \"disgusting\"\n",
    "df.disgusting.value_counts()"
   ]
  },
  {
   "cell_type": "code",
   "execution_count": 38,
   "id": "17c0327c",
   "metadata": {},
   "outputs": [
    {
     "data": {
      "text/plain": [
       "<AxesSubplot:xlabel='disgusting', ylabel='Count'>"
      ]
     },
     "execution_count": 38,
     "metadata": {},
     "output_type": "execute_result"
    },
    {
     "data": {
      "image/png": "[encoded data removed]",
      "text/plain": [
       "<Figure size 432x288 with 1 Axes>"
      ]
     },
     "metadata": {
      "needs_background": "light"
     },
     "output_type": "display_data"
    }
   ],
   "source": [
    "# There are 1100 people who say Yes and 353 people who say No to disgusting as shown below\n",
    "sns.histplot(df.disgusting)"
   ]
  },
  {
   "cell_type": "code",
   "execution_count": 39,
   "id": "222d1c5d",
   "metadata": {},
   "outputs": [
    {
     "data": {
      "text/plain": [
       "0    1100\n",
       "1     353\n",
       "Name: disgusting, dtype: int64"
      ]
     },
     "execution_count": 39,
     "metadata": {},
     "output_type": "execute_result"
    }
   ],
   "source": [
    "# Convert \"Yes\" to 1 and \"No\" to 0 by using the dictionary\n",
    "df.disgusting = df.disgusting.map(dict1)\n",
    "df.disgusting.value_counts()"
   ]
  },
  {
   "cell_type": "code",
   "execution_count": 40,
   "id": "34612320",
   "metadata": {},
   "outputs": [
    {
     "data": {
      "text/plain": [
       "+3              229\n",
       "+2              187\n",
       "0               169\n",
       "+4              160\n",
       "+1              152\n",
       "I hate it!-5    152\n",
       "I love it!+5    143\n",
       "-3               73\n",
       "-4               71\n",
       "-2               59\n",
       "-1               58\n",
       "Name: Like, dtype: int64"
      ]
     },
     "execution_count": 40,
     "metadata": {},
     "output_type": "execute_result"
    }
   ],
   "source": [
    "# Check how many unique values are there in \"Like\"\n",
    "df.Like.value_counts()"
   ]
  },
  {
   "cell_type": "code",
   "execution_count": 41,
   "id": "227eb56a",
   "metadata": {},
   "outputs": [
    {
     "data": {
      "text/plain": [
       "<AxesSubplot:xlabel='Like', ylabel='Count'>"
      ]
     },
     "execution_count": 41,
     "metadata": {},
     "output_type": "execute_result"
    },
    {
     "data": {
      "image/png": "[encoded data removed]",
      "text/plain": [
       "<Figure size 432x288 with 1 Axes>"
      ]
     },
     "metadata": {
      "needs_background": "light"
     },
     "output_type": "display_data"
    }
   ],
   "source": [
    "# The number of people in each category of \"Like\" is shown below\n",
    "sns.histplot(df.Like)"
   ]
  },
  {
   "cell_type": "code",
   "execution_count": 42,
   "id": "8e8e2dc0",
   "metadata": {
    "scrolled": true
   },
   "outputs": [
    {
     "data": {
      "text/plain": [
       " 3    229\n",
       " 2    187\n",
       " 0    169\n",
       " 4    160\n",
       " 1    152\n",
       "-5    152\n",
       " 5    143\n",
       "-3     73\n",
       "-4     71\n",
       "-2     59\n",
       "-1     58\n",
       "Name: Like, dtype: int64"
      ]
     },
     "execution_count": 42,
     "metadata": {},
     "output_type": "execute_result"
    }
   ],
   "source": [
    "# In \"Like\" convert \"I hate it!-5\" to -5 and \"I love it!+5\" to +5, by using a dictionary\n",
    "dict2 = { \"I hate it!-5\" : -5, \"I love it!+5\" : +5, \"-4\" : -4, \"-3\" : -3, \"-2\" : -2, \"-1\" : -1, \"0\" : 0, \"+1\" : +1, \"+2\" : +2, \"+3\" : +3, \"+4\" : +4 }\n",
    "df.Like = df.Like.map(dict2)\n",
    "df.Like.value_counts()"
   ]
  },
  {
   "cell_type": "code",
   "execution_count": 43,
   "id": "ee8b983d",
   "metadata": {},
   "outputs": [
    {
     "data": {
      "text/plain": [
       "<AxesSubplot:xlabel='Like', ylabel='Count'>"
      ]
     },
     "execution_count": 43,
     "metadata": {},
     "output_type": "execute_result"
    },
    {
     "data": {
      "image/png": "[encoded data removed]",
      "text/plain": [
       "<Figure size 432x288 with 1 Axes>"
      ]
     },
     "metadata": {
      "needs_background": "light"
     },
     "output_type": "display_data"
    }
   ],
   "source": [
    "# After applying the change, the number of people in each category of \"Like\" is shown below\n",
    "sns.histplot(df.Like)"
   ]
  },
  {
   "cell_type": "code",
   "execution_count": 44,
   "id": "80c9678a",
   "metadata": {},
   "outputs": [
    {
     "data": {
      "text/plain": [
       "55    53\n",
       "60    38\n",
       "37    37\n",
       "59    36\n",
       "57    36\n",
       "52    36\n",
       "58    35\n",
       "36    35\n",
       "49    34\n",
       "62    34\n",
       "50    34\n",
       "32    33\n",
       "44    32\n",
       "56    32\n",
       "64    32\n",
       "53    31\n",
       "26    31\n",
       "24    30\n",
       "35    30\n",
       "51    30\n",
       "47    30\n",
       "42    30\n",
       "23    30\n",
       "39    29\n",
       "29    28\n",
       "34    28\n",
       "30    28\n",
       "38    27\n",
       "40    27\n",
       "31    27\n",
       "25    26\n",
       "33    26\n",
       "61    26\n",
       "67    26\n",
       "48    26\n",
       "43    25\n",
       "27    25\n",
       "63    25\n",
       "54    24\n",
       "41    23\n",
       "22    23\n",
       "65    23\n",
       "45    22\n",
       "20    21\n",
       "46    19\n",
       "28    18\n",
       "66    17\n",
       "21    16\n",
       "18    16\n",
       "70    15\n",
       "69    14\n",
       "68    13\n",
       "19    10\n",
       "71     1\n",
       "Name: Age, dtype: int64"
      ]
     },
     "execution_count": 44,
     "metadata": {},
     "output_type": "execute_result"
    }
   ],
   "source": [
    "# Check how many unique values are there in \"Age\"\n",
    "df.Age.value_counts()"
   ]
  },
  {
   "cell_type": "code",
   "execution_count": 45,
   "id": "3433ec8a",
   "metadata": {},
   "outputs": [
    {
     "data": {
      "text/plain": [
       "<AxesSubplot:xlabel='Age', ylabel='Count'>"
      ]
     },
     "execution_count": 45,
     "metadata": {},
     "output_type": "execute_result"
    },
    {
     "data": {
      "image/png": "[encoded data removed]",
      "text/plain": [
       "<Figure size 432x288 with 1 Axes>"
      ]
     },
     "metadata": {
      "needs_background": "light"
     },
     "output_type": "display_data"
    }
   ],
   "source": [
    "# There number of people in each category of \"Age\" is shown below\n",
    "sns.histplot(df.Age)"
   ]
  },
  {
   "cell_type": "code",
   "execution_count": 46,
   "id": "cf1e0fda",
   "metadata": {},
   "outputs": [
    {
     "data": {
      "text/plain": [
       "Once a month             439\n",
       "Every three months       342\n",
       "Once a year              252\n",
       "Once a week              235\n",
       "Never                    131\n",
       "More than once a week     54\n",
       "Name: VisitFrequency, dtype: int64"
      ]
     },
     "execution_count": 46,
     "metadata": {},
     "output_type": "execute_result"
    }
   ],
   "source": [
    "# Check how many unique values are there in \"VisitFrequency\"\n",
    "df.VisitFrequency.value_counts()"
   ]
  },
  {
   "cell_type": "code",
   "execution_count": 47,
   "id": "c70d0e0e",
   "metadata": {},
   "outputs": [
    {
     "data": {
      "text/plain": [
       "<AxesSubplot:xlabel='VisitFrequency', ylabel='Count'>"
      ]
     },
     "execution_count": 47,
     "metadata": {},
     "output_type": "execute_result"
    },
    {
     "data": {
      "image/png": "[encoded data removed]",
      "text/plain": [
       "<Figure size 432x288 with 1 Axes>"
      ]
     },
     "metadata": {
      "needs_background": "light"
     },
     "output_type": "display_data"
    }
   ],
   "source": [
    "# There number of people in each category of \"VisitFrequency\" is shown below\n",
    "sns.histplot(df.VisitFrequency)"
   ]
  },
  {
   "cell_type": "code",
   "execution_count": 48,
   "id": "38bbf1aa",
   "metadata": {},
   "outputs": [
    {
     "data": {
      "text/plain": [
       "3    439\n",
       "2    342\n",
       "1    252\n",
       "4    235\n",
       "0    131\n",
       "5     54\n",
       "Name: VisitFrequency, dtype: int64"
      ]
     },
     "execution_count": 48,
     "metadata": {},
     "output_type": "execute_result"
    }
   ],
   "source": [
    "# In \"VisitFrequency\", change the values as follows\n",
    "# \"Never\" to 0\n",
    "# \"Once a year\" to 1\n",
    "# \"Every three months\" to 2\n",
    "# \"Once a month\" to 3\n",
    "# \"Once a week\" to 4\n",
    "# \"More than once a week\" to 5 by using a dictionary\n",
    "dict3 = { \"Never\" : 0, \"Once a year\" : 1, \"Every three months\" : 2, \"Once a month\" : 3, \"Once a week\" : 4, \"More than once a week\" : 5}\n",
    "df.VisitFrequency = df.VisitFrequency.map(dict3)\n",
    "df.VisitFrequency.value_counts()"
   ]
  },
  {
   "cell_type": "code",
   "execution_count": 49,
   "id": "f3484362",
   "metadata": {},
   "outputs": [
    {
     "data": {
      "text/plain": [
       "<AxesSubplot:xlabel='VisitFrequency', ylabel='Count'>"
      ]
     },
     "execution_count": 49,
     "metadata": {},
     "output_type": "execute_result"
    },
    {
     "data": {
      "image/png": "[encoded data removed]",
      "text/plain": [
       "<Figure size 432x288 with 1 Axes>"
      ]
     },
     "metadata": {
      "needs_background": "light"
     },
     "output_type": "display_data"
    }
   ],
   "source": [
    "# After applying the change, the number of people in each category of \"VisitFrequency\" is shown below\n",
    "sns.histplot(df.VisitFrequency)"
   ]
  },
  {
   "cell_type": "code",
   "execution_count": 50,
   "id": "8ef64094",
   "metadata": {},
   "outputs": [
    {
     "data": {
      "text/plain": [
       "Female    788\n",
       "Male      665\n",
       "Name: Gender, dtype: int64"
      ]
     },
     "execution_count": 50,
     "metadata": {},
     "output_type": "execute_result"
    }
   ],
   "source": [
    "# Check how many unique values are there in \"Gender\"\n",
    "df.Gender.value_counts()"
   ]
  },
  {
   "cell_type": "code",
   "execution_count": 51,
   "id": "df8470e4",
   "metadata": {
    "scrolled": true
   },
   "outputs": [
    {
     "data": {
      "text/plain": [
       "<AxesSubplot:xlabel='Gender', ylabel='Count'>"
      ]
     },
     "execution_count": 51,
     "metadata": {},
     "output_type": "execute_result"
    },
    {
     "data": {
      "image/png": "[encoded data removed]",
      "text/plain": [
       "<Figure size 432x288 with 1 Axes>"
      ]
     },
     "metadata": {
      "needs_background": "light"
     },
     "output_type": "display_data"
    }
   ],
   "source": [
    "# There are 788 people who are Female and 665 people who are Female as shown below\n",
    "sns.histplot(df.Gender)"
   ]
  },
  {
   "cell_type": "code",
   "execution_count": 52,
   "id": "1b0d1366",
   "metadata": {},
   "outputs": [
    {
     "data": {
      "text/plain": [
       "0    788\n",
       "1    665\n",
       "Name: Gender, dtype: int64"
      ]
     },
     "execution_count": 52,
     "metadata": {},
     "output_type": "execute_result"
    }
   ],
   "source": [
    "# In \"Gender\" convert \"Female\" to 0 and \"Male\" to 1 by using a dictionary\n",
    "dict4 = { \"Female\" : 0, \"Male\" : 1 }\n",
    "df.Gender = df.Gender.map(dict4)\n",
    "df.Gender.value_counts()"
   ]
  },
  {
   "cell_type": "code",
   "execution_count": 53,
   "id": "66251533",
   "metadata": {},
   "outputs": [
    {
     "name": "stdout",
     "output_type": "stream",
     "text": [
      "<class 'pandas.core.frame.DataFrame'>\n",
      "RangeIndex: 1453 entries, 0 to 1452\n",
      "Data columns (total 15 columns):\n",
      " #   Column          Non-Null Count  Dtype\n",
      "---  ------          --------------  -----\n",
      " 0   yummy           1453 non-null   int64\n",
      " 1   convenient      1453 non-null   int64\n",
      " 2   spicy           1453 non-null   int64\n",
      " 3   fattening       1453 non-null   int64\n",
      " 4   greasy          1453 non-null   int64\n",
      " 5   fast            1453 non-null   int64\n",
      " 6   cheap           1453 non-null   int64\n",
      " 7   tasty           1453 non-null   int64\n",
      " 8   expensive       1453 non-null   int64\n",
      " 9   healthy         1453 non-null   int64\n",
      " 10  disgusting      1453 non-null   int64\n",
      " 11  Like            1453 non-null   int64\n",
      " 12  Age             1453 non-null   int64\n",
      " 13  VisitFrequency  1453 non-null   int64\n",
      " 14  Gender          1453 non-null   int64\n",
      "dtypes: int64(15)\n",
      "memory usage: 170.4 KB\n"
     ]
    }
   ],
   "source": [
    "# Confirm if all the values which were there as strings/objects are converted to numericals\n",
    "df.info()"
   ]
  },
  {
   "cell_type": "code",
   "execution_count": 54,
   "id": "d715aa85",
   "metadata": {},
   "outputs": [
    {
     "data": {
      "text/html": [
       "<div>\n",
       "<style scoped>\n",
       "    .dataframe tbody tr th:only-of-type {\n",
       "        vertical-align: middle;\n",
       "    }\n",
       "\n",
       "    .dataframe tbody tr th {\n",
       "        vertical-align: top;\n",
       "    }\n",
       "\n",
       "    .dataframe thead th {\n",
       "        text-align: right;\n",
       "    }\n",
       "</style>\n",
       "<table border=\"1\" class=\"dataframe\">\n",
       "  <thead>\n",
       "    <tr style=\"text-align: right;\">\n",
       "      <th></th>\n",
       "      <th>yummy</th>\n",
       "      <th>convenient</th>\n",
       "      <th>spicy</th>\n",
       "      <th>fattening</th>\n",
       "      <th>greasy</th>\n",
       "      <th>fast</th>\n",
       "      <th>cheap</th>\n",
       "      <th>tasty</th>\n",
       "      <th>expensive</th>\n",
       "      <th>healthy</th>\n",
       "      <th>disgusting</th>\n",
       "      <th>Like</th>\n",
       "      <th>Age</th>\n",
       "      <th>VisitFrequency</th>\n",
       "      <th>Gender</th>\n",
       "    </tr>\n",
       "  </thead>\n",
       "  <tbody>\n",
       "    <tr>\n",
       "      <th>0</th>\n",
       "      <td>0</td>\n",
       "      <td>1</td>\n",
       "      <td>0</td>\n",
       "      <td>1</td>\n",
       "      <td>0</td>\n",
       "      <td>1</td>\n",
       "      <td>1</td>\n",
       "      <td>0</td>\n",
       "      <td>1</td>\n",
       "      <td>0</td>\n",
       "      <td>0</td>\n",
       "      <td>-3</td>\n",
       "      <td>61</td>\n",
       "      <td>2</td>\n",
       "      <td>0</td>\n",
       "    </tr>\n",
       "    <tr>\n",
       "      <th>1</th>\n",
       "      <td>1</td>\n",
       "      <td>1</td>\n",
       "      <td>0</td>\n",
       "      <td>1</td>\n",
       "      <td>1</td>\n",
       "      <td>1</td>\n",
       "      <td>1</td>\n",
       "      <td>1</td>\n",
       "      <td>1</td>\n",
       "      <td>0</td>\n",
       "      <td>0</td>\n",
       "      <td>2</td>\n",
       "      <td>51</td>\n",
       "      <td>2</td>\n",
       "      <td>0</td>\n",
       "    </tr>\n",
       "    <tr>\n",
       "      <th>2</th>\n",
       "      <td>0</td>\n",
       "      <td>1</td>\n",
       "      <td>1</td>\n",
       "      <td>1</td>\n",
       "      <td>1</td>\n",
       "      <td>1</td>\n",
       "      <td>0</td>\n",
       "      <td>1</td>\n",
       "      <td>1</td>\n",
       "      <td>1</td>\n",
       "      <td>0</td>\n",
       "      <td>1</td>\n",
       "      <td>62</td>\n",
       "      <td>2</td>\n",
       "      <td>0</td>\n",
       "    </tr>\n",
       "    <tr>\n",
       "      <th>3</th>\n",
       "      <td>1</td>\n",
       "      <td>1</td>\n",
       "      <td>0</td>\n",
       "      <td>1</td>\n",
       "      <td>1</td>\n",
       "      <td>1</td>\n",
       "      <td>1</td>\n",
       "      <td>1</td>\n",
       "      <td>0</td>\n",
       "      <td>0</td>\n",
       "      <td>1</td>\n",
       "      <td>4</td>\n",
       "      <td>69</td>\n",
       "      <td>4</td>\n",
       "      <td>0</td>\n",
       "    </tr>\n",
       "    <tr>\n",
       "      <th>4</th>\n",
       "      <td>0</td>\n",
       "      <td>1</td>\n",
       "      <td>0</td>\n",
       "      <td>1</td>\n",
       "      <td>1</td>\n",
       "      <td>1</td>\n",
       "      <td>1</td>\n",
       "      <td>0</td>\n",
       "      <td>0</td>\n",
       "      <td>1</td>\n",
       "      <td>0</td>\n",
       "      <td>2</td>\n",
       "      <td>49</td>\n",
       "      <td>3</td>\n",
       "      <td>1</td>\n",
       "    </tr>\n",
       "  </tbody>\n",
       "</table>\n",
       "</div>"
      ],
      "text/plain": [
       "   yummy  convenient  spicy  fattening  greasy  fast  cheap  tasty  expensive  \\\n",
       "0      0           1      0          1       0     1      1      0          1   \n",
       "1      1           1      0          1       1     1      1      1          1   \n",
       "2      0           1      1          1       1     1      0      1          1   \n",
       "3      1           1      0          1       1     1      1      1          0   \n",
       "4      0           1      0          1       1     1      1      0          0   \n",
       "\n",
       "   healthy  disgusting  Like  Age  VisitFrequency  Gender  \n",
       "0        0           0    -3   61               2       0  \n",
       "1        0           0     2   51               2       0  \n",
       "2        1           0     1   62               2       0  \n",
       "3        0           1     4   69               4       0  \n",
       "4        1           0     2   49               3       1  "
      ]
     },
     "execution_count": 54,
     "metadata": {},
     "output_type": "execute_result"
    }
   ],
   "source": [
    "df.head()"
   ]
  },
  {
   "cell_type": "code",
   "execution_count": 55,
   "id": "e59da66c",
   "metadata": {},
   "outputs": [
    {
     "data": {
      "image/png": "[encoded data removed]",
      "text/plain": [
       "<Figure size 432x288 with 1 Axes>"
      ]
     },
     "metadata": {
      "needs_background": "light"
     },
     "output_type": "display_data"
    }
   ],
   "source": [
    "# Get the inertia values for number of clusters varying from 2 to 10\n",
    "inertia = []\n",
    "for i in range(2, 11):\n",
    "    kmeans = KMeans(n_clusters = i, init = 'k-means++', max_iter = 300, n_init = 10, random_state = 0)\n",
    "    kmeans.fit(df)\n",
    "    inertia.append(kmeans.inertia_)\n",
    "\n",
    "# Plot the intertia values for these clusters to choose the appropriate number of clusters\n",
    "plt.plot(range(2, 11), inertia)\n",
    "plt.title('The Elbow Method')\n",
    "plt.xlabel('Number of clusters')\n",
    "plt.ylabel('Inertia')\n",
    "plt.show()"
   ]
  },
  {
   "cell_type": "code",
   "execution_count": 56,
   "id": "2af5ec36",
   "metadata": {},
   "outputs": [],
   "source": [
    "# From the above plot it is not clear if we have to choose number of clusters as 3 or 4 or 5"
   ]
  },
  {
   "cell_type": "code",
   "execution_count": 57,
   "id": "44231e5a",
   "metadata": {},
   "outputs": [],
   "source": [
    "cols_box_plot = ['yummy', 'convenient', 'spicy', 'fattening', 'greasy', 'fast', 'cheap',\n",
    "       'tasty', 'expensive', 'healthy', 'disgusting', 'Gender']"
   ]
  },
  {
   "cell_type": "code",
   "execution_count": 58,
   "id": "f10d2a63",
   "metadata": {},
   "outputs": [
    {
     "data": {
      "text/plain": [
       "<AxesSubplot:title={'center':'RATIO OF YES TO EACH BINARY CATEGORY THE FULL DATA SET'}>"
      ]
     },
     "execution_count": 58,
     "metadata": {},
     "output_type": "execute_result"
    },
    {
     "data": {
      "image/png": "[encoded data removed]",
      "text/plain": [
       "<Figure size 1152x288 with 1 Axes>"
      ]
     },
     "metadata": {
      "needs_background": "light"
     },
     "output_type": "display_data"
    }
   ],
   "source": [
    "hist0_0 = df[cols_box_plot].sum() / df.shape[0]\n",
    "plt.figure(figsize = (16,4))\n",
    "plt.title(\"RATIO OF YES TO EACH BINARY CATEGORY THE FULL DATA SET\")\n",
    "sns.barplot(x = hist0_0.index, y = hist0_0)"
   ]
  },
  {
   "cell_type": "code",
   "execution_count": 59,
   "id": "8365c7a0",
   "metadata": {},
   "outputs": [],
   "source": [
    "# From the above plot it is not clear if we have to choose number of clusters as 3 or 4 or 5"
   ]
  },
  {
   "cell_type": "code",
   "execution_count": 60,
   "id": "c842242d",
   "metadata": {},
   "outputs": [
    {
     "data": {
      "text/plain": [
       "2    547\n",
       "0    470\n",
       "1    436\n",
       "Name: clusters, dtype: int64"
      ]
     },
     "execution_count": 60,
     "metadata": {},
     "output_type": "execute_result"
    }
   ],
   "source": [
    "kmeans3 = KMeans(n_clusters = 3, init = 'k-means++', max_iter = 300, n_init = 10, random_state = 0)\n",
    "kmeans3.fit(df)\n",
    "pred3 = kmeans3.predict(df)\n",
    "df3 = df\n",
    "df3['clusters'] = pred3\n",
    "\n",
    "df3_0 = df[df3.clusters == 0]\n",
    "df3_1 = df[df3.clusters == 1]\n",
    "df3_2 = df[df3.clusters == 2]\n",
    "                              \n",
    "df3.clusters.value_counts()\n",
    "\n",
    "hist3_0 = df3_0[cols_box_plot].sum() / df3_0.shape[0]\n",
    "hist3_1 = df3_1[cols_box_plot].sum() / df3_1.shape[0]\n",
    "hist3_2 = df3_2[cols_box_plot].sum() / df3_2.shape[0]\n",
    "\n",
    "df3.clusters.value_counts()"
   ]
  },
  {
   "cell_type": "code",
   "execution_count": 61,
   "id": "ff0e5e1f",
   "metadata": {
    "scrolled": true
   },
   "outputs": [
    {
     "data": {
      "text/plain": [
       "<AxesSubplot:title={'center':'RATIO OF YES TO EACH BINARY CATEGORY IN CLUSTER[1/3]'}>"
      ]
     },
     "execution_count": 61,
     "metadata": {},
     "output_type": "execute_result"
    },
    {
     "data": {
      "image/png": "[encoded data removed]",
      "text/plain": [
       "<Figure size 1152x288 with 1 Axes>"
      ]
     },
     "metadata": {
      "needs_background": "light"
     },
     "output_type": "display_data"
    }
   ],
   "source": [
    "plt.figure(figsize = (16,4))\n",
    "plt.title(\"RATIO OF YES TO EACH BINARY CATEGORY IN CLUSTER[1/3]\")\n",
    "sns.barplot(x = hist3_0.index, y = hist3_0)"
   ]
  },
  {
   "cell_type": "code",
   "execution_count": 62,
   "id": "ba52c1d1",
   "metadata": {
    "scrolled": true
   },
   "outputs": [
    {
     "data": {
      "text/plain": [
       "<AxesSubplot:title={'center':'RATIO OF YES TO EACH BINARY CATEGORY IN CLUSTER[2/3]'}>"
      ]
     },
     "execution_count": 62,
     "metadata": {},
     "output_type": "execute_result"
    },
    {
     "data": {
      "image/png": "[encoded data removed]",
      "text/plain": [
       "<Figure size 1152x288 with 1 Axes>"
      ]
     },
     "metadata": {
      "needs_background": "light"
     },
     "output_type": "display_data"
    }
   ],
   "source": [
    "plt.figure(figsize = (16,4))\n",
    "plt.title(\"RATIO OF YES TO EACH BINARY CATEGORY IN CLUSTER[2/3]\")\n",
    "sns.barplot(x = hist3_1.index, y = hist3_1)"
   ]
  },
  {
   "cell_type": "code",
   "execution_count": 63,
   "id": "573744f4",
   "metadata": {},
   "outputs": [
    {
     "data": {
      "text/plain": [
       "<AxesSubplot:title={'center':'RATIO OF YES TO EACH BINARY CATEGORY IN CLUSTER[3/3]'}>"
      ]
     },
     "execution_count": 63,
     "metadata": {},
     "output_type": "execute_result"
    },
    {
     "data": {
      "image/png": "[encoded data removed]",
      "text/plain": [
       "<Figure size 1152x288 with 1 Axes>"
      ]
     },
     "metadata": {
      "needs_background": "light"
     },
     "output_type": "display_data"
    }
   ],
   "source": [
    "plt.figure(figsize = (16,4))\n",
    "plt.title(\"RATIO OF YES TO EACH BINARY CATEGORY IN CLUSTER[3/3]\")\n",
    "sns.barplot(x = hist3_2.index, y = hist3_2)"
   ]
  },
  {
   "cell_type": "code",
   "execution_count": 64,
   "id": "84723f31",
   "metadata": {},
   "outputs": [],
   "source": [
    "# SINCE ALL 3 CLUSTERS LOOK ALMOST ALIKE, WE DISCARD THIS 3-CLUSTER"
   ]
  },
  {
   "cell_type": "code",
   "execution_count": 65,
   "id": "67c328d5",
   "metadata": {},
   "outputs": [
    {
     "data": {
      "text/plain": [
       "2    383\n",
       "3    371\n",
       "1    371\n",
       "0    328\n",
       "Name: clusters, dtype: int64"
      ]
     },
     "execution_count": 65,
     "metadata": {},
     "output_type": "execute_result"
    }
   ],
   "source": [
    "kmeans4 = KMeans(n_clusters = 4, init = 'k-means++', max_iter = 300, n_init = 10, random_state = 0)\n",
    "kmeans4.fit(df)\n",
    "pred4 = kmeans4.predict(df)\n",
    "df4 = df\n",
    "df4['clusters'] = pred4\n",
    "\n",
    "df4_0 = df[df4.clusters == 0]\n",
    "df4_1 = df[df4.clusters == 1]\n",
    "df4_2 = df[df4.clusters == 2]\n",
    "df4_3 = df[df4.clusters == 3]\n",
    "                              \n",
    "hist4_0 = df4_0[cols_box_plot].sum() / df4_0.shape[0]\n",
    "hist4_1 = df4_1[cols_box_plot].sum() / df4_1.shape[0]\n",
    "hist4_2 = df4_2[cols_box_plot].sum() / df4_2.shape[0]\n",
    "hist4_3 = df4_3[cols_box_plot].sum() / df4_3.shape[0]\n",
    "\n",
    "df4.clusters.value_counts()"
   ]
  },
  {
   "cell_type": "code",
   "execution_count": 66,
   "id": "7f636e49",
   "metadata": {
    "scrolled": true
   },
   "outputs": [
    {
     "data": {
      "text/plain": [
       "<AxesSubplot:title={'center':'RATIO OF YES TO EACH BINARY CATEGORY IN CLUSTER[1/4]'}>"
      ]
     },
     "execution_count": 66,
     "metadata": {},
     "output_type": "execute_result"
    },
    {
     "data": {
      "image/png": "[encoded data removed]",
      "text/plain": [
       "<Figure size 1152x288 with 1 Axes>"
      ]
     },
     "metadata": {
      "needs_background": "light"
     },
     "output_type": "display_data"
    }
   ],
   "source": [
    "plt.figure(figsize = (16,4))\n",
    "plt.title(\"RATIO OF YES TO EACH BINARY CATEGORY IN CLUSTER[1/4]\")\n",
    "sns.barplot(x = hist4_0.index, y = hist4_0)"
   ]
  },
  {
   "cell_type": "code",
   "execution_count": 67,
   "id": "30b10c07",
   "metadata": {
    "scrolled": true
   },
   "outputs": [
    {
     "data": {
      "text/plain": [
       "<AxesSubplot:title={'center':'RATIO OF YES TO EACH BINARY CATEGORY IN CLUSTER[2/4]'}>"
      ]
     },
     "execution_count": 67,
     "metadata": {},
     "output_type": "execute_result"
    },
    {
     "data": {
      "image/png": "[encoded data removed]",
      "text/plain": [
       "<Figure size 1152x288 with 1 Axes>"
      ]
     },
     "metadata": {
      "needs_background": "light"
     },
     "output_type": "display_data"
    }
   ],
   "source": [
    "plt.figure(figsize = (16,4))\n",
    "plt.title(\"RATIO OF YES TO EACH BINARY CATEGORY IN CLUSTER[2/4]\")\n",
    "sns.barplot(x = hist4_1.index, y = hist4_1)"
   ]
  },
  {
   "cell_type": "code",
   "execution_count": 68,
   "id": "deb65f0a",
   "metadata": {
    "scrolled": true
   },
   "outputs": [
    {
     "data": {
      "text/plain": [
       "<AxesSubplot:title={'center':'RATIO OF YES TO EACH BINARY CATEGORY IN CLUSTER[3/4]'}>"
      ]
     },
     "execution_count": 68,
     "metadata": {},
     "output_type": "execute_result"
    },
    {
     "data": {
      "image/png": "[encoded data removed]",
      "text/plain": [
       "<Figure size 1152x288 with 1 Axes>"
      ]
     },
     "metadata": {
      "needs_background": "light"
     },
     "output_type": "display_data"
    }
   ],
   "source": [
    "plt.figure(figsize = (16,4))\n",
    "plt.title(\"RATIO OF YES TO EACH BINARY CATEGORY IN CLUSTER[3/4]\")\n",
    "sns.barplot(x = hist4_2.index, y = hist4_2)"
   ]
  },
  {
   "cell_type": "code",
   "execution_count": 69,
   "id": "796435dc",
   "metadata": {},
   "outputs": [
    {
     "data": {
      "text/plain": [
       "<AxesSubplot:title={'center':'RATIO OF YES TO EACH BINARY CATEGORY IN CLUSTER[4/4]'}>"
      ]
     },
     "execution_count": 69,
     "metadata": {},
     "output_type": "execute_result"
    },
    {
     "data": {
      "image/png": "[encoded data removed]",
      "text/plain": [
       "<Figure size 1152x288 with 1 Axes>"
      ]
     },
     "metadata": {
      "needs_background": "light"
     },
     "output_type": "display_data"
    }
   ],
   "source": [
    "plt.figure(figsize = (16,4))\n",
    "plt.title(\"RATIO OF YES TO EACH BINARY CATEGORY IN CLUSTER[4/4]\")\n",
    "sns.barplot(x = hist4_3.index, y = hist4_3)"
   ]
  },
  {
   "cell_type": "code",
   "execution_count": 70,
   "id": "a67e2fda",
   "metadata": {},
   "outputs": [
    {
     "data": {
      "text/plain": [
       "1    321\n",
       "4    313\n",
       "2    299\n",
       "0    264\n",
       "3    256\n",
       "Name: clusters, dtype: int64"
      ]
     },
     "execution_count": 70,
     "metadata": {},
     "output_type": "execute_result"
    }
   ],
   "source": [
    "kmeans5 = KMeans(n_clusters = 5, init = 'k-means++', max_iter = 300, n_init = 10, random_state = 0)\n",
    "kmeans5.fit(df)\n",
    "pred5 = kmeans5.predict(df)\n",
    "df5 = df\n",
    "df5['clusters'] = pred5\n",
    "\n",
    "df5_0 = df[df5.clusters == 0]\n",
    "df5_1 = df[df5.clusters == 1]\n",
    "df5_2 = df[df5.clusters == 2]\n",
    "df5_3 = df[df5.clusters == 3]\n",
    "df5_4 = df[df5.clusters == 4]\n",
    "                              \n",
    "hist5_0 = df5_0[cols_box_plot].sum() / df5_0.shape[0]\n",
    "hist5_1 = df5_1[cols_box_plot].sum() / df5_1.shape[0]\n",
    "hist5_2 = df5_2[cols_box_plot].sum() / df5_2.shape[0]\n",
    "hist5_3 = df5_3[cols_box_plot].sum() / df5_3.shape[0]\n",
    "hist5_4 = df5_4[cols_box_plot].sum() / df5_4.shape[0]\n",
    "\n",
    "df5.clusters.value_counts()"
   ]
  },
  {
   "cell_type": "code",
   "execution_count": 71,
   "id": "dc6e1000",
   "metadata": {},
   "outputs": [
    {
     "data": {
      "text/plain": [
       "<AxesSubplot:title={'center':'RATIO OF YES TO EACH BINARY CATEGORY IN CLUSTER[1/5]'}>"
      ]
     },
     "execution_count": 71,
     "metadata": {},
     "output_type": "execute_result"
    },
    {
     "data": {
      "image/png": "[encoded data removed]",
      "text/plain": [
       "<Figure size 1152x288 with 1 Axes>"
      ]
     },
     "metadata": {
      "needs_background": "light"
     },
     "output_type": "display_data"
    }
   ],
   "source": [
    "plt.figure(figsize = (16,4))\n",
    "plt.title(\"RATIO OF YES TO EACH BINARY CATEGORY IN CLUSTER[1/5]\")\n",
    "sns.barplot(x = hist5_0.index, y = hist5_0)"
   ]
  },
  {
   "cell_type": "code",
   "execution_count": 72,
   "id": "c7ad8cc5",
   "metadata": {},
   "outputs": [
    {
     "data": {
      "text/plain": [
       "<AxesSubplot:title={'center':'RATIO OF YES TO EACH BINARY CATEGORY IN CLUSTER[2/5]'}>"
      ]
     },
     "execution_count": 72,
     "metadata": {},
     "output_type": "execute_result"
    },
    {
     "data": {
      "image/png": "[encoded data removed]",
      "text/plain": [
       "<Figure size 1152x288 with 1 Axes>"
      ]
     },
     "metadata": {
      "needs_background": "light"
     },
     "output_type": "display_data"
    }
   ],
   "source": [
    "plt.figure(figsize = (16,4))\n",
    "plt.title(\"RATIO OF YES TO EACH BINARY CATEGORY IN CLUSTER[2/5]\")\n",
    "sns.barplot(x = hist5_1.index, y = hist5_1)"
   ]
  },
  {
   "cell_type": "code",
   "execution_count": 73,
   "id": "14c58d92",
   "metadata": {},
   "outputs": [
    {
     "data": {
      "text/plain": [
       "<AxesSubplot:title={'center':'RATIO OF YES TO EACH BINARY CATEGORY IN CLUSTER[3/5]'}>"
      ]
     },
     "execution_count": 73,
     "metadata": {},
     "output_type": "execute_result"
    },
    {
     "data": {
      "image/png": "[encoded data removed]",
      "text/plain": [
       "<Figure size 1152x288 with 1 Axes>"
      ]
     },
     "metadata": {
      "needs_background": "light"
     },
     "output_type": "display_data"
    }
   ],
   "source": [
    "plt.figure(figsize = (16,4))\n",
    "plt.title(\"RATIO OF YES TO EACH BINARY CATEGORY IN CLUSTER[3/5]\")\n",
    "sns.barplot(x = hist5_2.index, y = hist5_2)"
   ]
  },
  {
   "cell_type": "code",
   "execution_count": 74,
   "id": "180566aa",
   "metadata": {},
   "outputs": [
    {
     "data": {
      "text/plain": [
       "<AxesSubplot:title={'center':'RATIO OF YES TO EACH BINARY CATEGORY IN CLUSTER[4/5]'}>"
      ]
     },
     "execution_count": 74,
     "metadata": {},
     "output_type": "execute_result"
    },
    {
     "data": {
      "image/png": "[encoded data removed]",
      "text/plain": [
       "<Figure size 1152x288 with 1 Axes>"
      ]
     },
     "metadata": {
      "needs_background": "light"
     },
     "output_type": "display_data"
    }
   ],
   "source": [
    "plt.figure(figsize = (16,4))\n",
    "plt.title(\"RATIO OF YES TO EACH BINARY CATEGORY IN CLUSTER[4/5]\")\n",
    "sns.barplot(x = hist5_3.index, y = hist5_3)"
   ]
  },
  {
   "cell_type": "code",
   "execution_count": 75,
   "id": "94b2789c",
   "metadata": {},
   "outputs": [
    {
     "data": {
      "text/plain": [
       "<AxesSubplot:title={'center':'RATIO OF YES TO EACH BINARY CATEGORY IN CLUSTER[5/5]'}>"
      ]
     },
     "execution_count": 75,
     "metadata": {},
     "output_type": "execute_result"
    },
    {
     "data": {
      "image/png": "[encoded data removed]",
      "text/plain": [
       "<Figure size 1152x288 with 1 Axes>"
      ]
     },
     "metadata": {
      "needs_background": "light"
     },
     "output_type": "display_data"
    }
   ],
   "source": [
    "plt.figure(figsize = (16,4))\n",
    "plt.title(\"RATIO OF YES TO EACH BINARY CATEGORY IN CLUSTER[5/5]\")\n",
    "sns.barplot(x = hist5_4.index, y = hist5_4)"
   ]
  },
  {
   "cell_type": "code",
   "execution_count": 76,
   "id": "9b7e81f6",
   "metadata": {},
   "outputs": [],
   "source": [
    "# FROM THE ABOVE SEGMENT WISE PLOTS OF BINARY VARIBALES FOR NUMBER OF CLUSTERS BEING 3 OR 4 OR 5\n",
    "# IT IS NOT CLEAR SEGMENTATION AVAILABLE FROM THE PLOTS(3 OR 4 OR 5 CLUSTERS) AS THEY LOOK SIMILAR TO THE OVERALL DATASET PLOT"
   ]
  }
 ],
 "metadata": {
  "kernelspec": {
   "display_name": "Python 3 (ipykernel)",
   "language": "python",
   "name": "python3"
  },
  "language_info": {
   "codemirror_mode": {
    "name": "ipython",
    "version": 3
   },
   "file_extension": ".py",
   "mimetype": "text/x-python",
   "name": "python",
   "nbconvert_exporter": "python",
   "pygments_lexer": "ipython3",
   "version": "3.9.7"
  }
 },
 "nbformat": 4,
 "nbformat_minor": 5
}
